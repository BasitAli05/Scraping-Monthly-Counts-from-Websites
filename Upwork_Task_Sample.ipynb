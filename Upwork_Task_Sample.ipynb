{
  "nbformat": 4,
  "nbformat_minor": 0,
  "metadata": {
    "colab": {
      "provenance": []
    },
    "kernelspec": {
      "name": "python3",
      "display_name": "Python 3"
    },
    "language_info": {
      "name": "python"
    }
  },
  "cells": [
    {
      "cell_type": "code",
      "execution_count": 22,
      "metadata": {
        "colab": {
          "base_uri": "https://localhost:8080/"
        },
        "id": "ijS-SF3XcShJ",
        "outputId": "37e16a87-40c7-4847-f442-2c141448aafe"
      },
      "outputs": [
        {
          "output_type": "stream",
          "name": "stdout",
          "text": [
            "Final Count For Jan month :  18\n",
            "Final Count For Feb month :  9\n"
          ]
        }
      ],
      "source": [
        "import requests\n",
        "from bs4 import BeautifulSoup\n",
        "from datetime import datetime\n",
        "\n",
        "url = \"https://www.socialmediaexaminer.com/post-sitemap5.xml\"\n",
        "url2 = \"https://thrivemyway.com/post-sitemap1.xml\"\n",
        "url3 = \"https://moz.com/sitemaps-1-section-blog-1-sitemap.xml\"\n",
        "\n",
        "payload = \"\"\n",
        "headers = {\"User-Agent\": \"insomnia/8.6.1\"}\n",
        "\n",
        "response = requests.request(\"GET\", url, data=payload, headers=headers)\n",
        "\n",
        "Feb_count_1 = 0\n",
        "Jan_count_1 = 0\n",
        "# Check if the request was successful (status code 200)\n",
        "if response.status_code == 200:\n",
        "    # Parse XML content with BeautifulSoup\n",
        "    soup = BeautifulSoup(response.content, 'xml')\n",
        "\n",
        "    # Extract data\n",
        "    urls = soup.find_all('url')\n",
        "    for url in urls:\n",
        "        lastmod = url.find('lastmod').text\n",
        "        dt_obj = datetime.strptime(lastmod, \"%Y-%m-%dT%H:%M:%S%z\")\n",
        "\n",
        "        # Extract year and month from the datetime object\n",
        "        year = dt_obj.year\n",
        "        month = dt_obj.month\n",
        "        date = dt_obj.day\n",
        "        if ( year == 2024 and month == 2 ):\n",
        "            # print(year,month,date)\n",
        "            Feb_count_1 += 1\n",
        "        elif ( year == 2024 and month == 1 ):\n",
        "            # print(year,month,date)\n",
        "            Jan_count_1 += 1\n",
        "    print(\"Final Count For Jan month : \",Jan_count_1)\n",
        "    print(\"Final Count For Feb month : \",Feb_count_1)\n",
        "else:\n",
        "    print(\"Failed to fetch data from the API.\")"
      ]
    },
    {
      "cell_type": "code",
      "source": [
        "response = requests.request(\"GET\", url2, data=payload, headers=headers)\n",
        "\n",
        "Feb_count_2 = 0\n",
        "Jan_count_2 = 0\n",
        "# Check if the request was successful (status code 200)\n",
        "if response.status_code == 200:\n",
        "    # Parse XML content with BeautifulSoup\n",
        "    soup = BeautifulSoup(response.content, 'xml')\n",
        "\n",
        "    # Extract data\n",
        "    urls = soup.find_all('url')\n",
        "    for url in urls:\n",
        "        lastmod = url.find('lastmod')\n",
        "        if lastmod:\n",
        "            lastmod = lastmod.text\n",
        "            dt_obj = datetime.strptime(lastmod, \"%Y-%m-%dT%H:%M:%S%z\")\n",
        "\n",
        "            # Extract year and month from the datetime object\n",
        "            year = dt_obj.year\n",
        "            month = dt_obj.month\n",
        "            date = dt_obj.day\n",
        "            if ( year == 2024 and month == 2 ):\n",
        "                # print(year,month,date)\n",
        "                Feb_count_2 += 1\n",
        "            elif ( year == 2024 and month == 1 ):\n",
        "                # print(year,month,date)\n",
        "                Jan_count_2 += 1\n",
        "    print(\"Final Count For Jan month : \",Jan_count_2)\n",
        "    print(\"Final Count For Feb month : \",Feb_count_2)\n",
        "else:\n",
        "    print(\"Failed to fetch data from the API.\")"
      ],
      "metadata": {
        "colab": {
          "base_uri": "https://localhost:8080/"
        },
        "id": "gfqwSWMXvbwI",
        "outputId": "6f38dfae-fd92-4399-b8aa-3ccade58d33a"
      },
      "execution_count": 23,
      "outputs": [
        {
          "output_type": "stream",
          "name": "stdout",
          "text": [
            "Final Count For Jan month :  38\n",
            "Final Count For Feb month :  11\n"
          ]
        }
      ]
    },
    {
      "cell_type": "code",
      "source": [
        "response = requests.request(\"GET\", url3, data=payload, headers=headers)\n",
        "\n",
        "Feb_count_3 = 0\n",
        "Jan_count_3 = 0\n",
        "# Check if the request was successful (status code 200)\n",
        "if response.status_code == 200:\n",
        "    # Parse XML content with BeautifulSoup\n",
        "    soup = BeautifulSoup(response.content, 'xml')\n",
        "\n",
        "    # Extract data\n",
        "    urls = soup.find_all('url')\n",
        "    for url in urls:\n",
        "        lastmod = url.find('lastmod')\n",
        "        if lastmod:\n",
        "            lastmod = lastmod.text\n",
        "            dt_obj = datetime.strptime(lastmod, \"%Y-%m-%dT%H:%M:%S%z\")\n",
        "\n",
        "            # Extract year and month from the datetime object\n",
        "            year = dt_obj.year\n",
        "            month = dt_obj.month\n",
        "            date = dt_obj.day\n",
        "            if ( year == 2024 and month == 2 ):\n",
        "                # print(year,month,date)\n",
        "                Feb_count_3 += 1\n",
        "            elif ( year == 2024 and month == 1 ):\n",
        "                # print(year,month,date)\n",
        "                Jan_count_3 += 1\n",
        "    print(\"Final Count For Jan month : \",Jan_count_3)\n",
        "    print(\"Final Count For Feb month : \",Feb_count_3)\n",
        "else:\n",
        "    print(\"Failed to fetch data from the API.\")"
      ],
      "metadata": {
        "colab": {
          "base_uri": "https://localhost:8080/"
        },
        "id": "VSPlzTFovl1B",
        "outputId": "470b26a7-eb96-4189-f039-a9d5555ba3eb"
      },
      "execution_count": 24,
      "outputs": [
        {
          "output_type": "stream",
          "name": "stdout",
          "text": [
            "Final Count For Jan month :  25\n",
            "Final Count For Feb month :  23\n"
          ]
        }
      ]
    },
    {
      "cell_type": "code",
      "source": [
        "import pandas as pd\n",
        "urls = ['https://www.socialmediaexaminer.com/','https://thrivemyway.com/','https://moz.com/']\n",
        "Jan_count = [Jan_count_1,Jan_count_2,Jan_count_3]\n",
        "Jan_df = pd.DataFrame({'Website': urls, 'Jan Count': Jan_count})\n",
        "print(Jan_df)\n",
        "\n",
        "Feb_count = [Feb_count_1,Feb_count_2,Feb_count_3]\n",
        "Feb_df = pd.DataFrame({'Website': urls, 'Feb Count': Feb_count})\n",
        "print(Feb_df)"
      ],
      "metadata": {
        "colab": {
          "base_uri": "https://localhost:8080/"
        },
        "id": "BawgxORhzRvZ",
        "outputId": "685e1d0e-23fe-4e2e-e54c-9d01fe863035"
      },
      "execution_count": 30,
      "outputs": [
        {
          "output_type": "stream",
          "name": "stdout",
          "text": [
            "                                Website  Jan Count\n",
            "0  https://www.socialmediaexaminer.com/         18\n",
            "1              https://thrivemyway.com/         38\n",
            "2                      https://moz.com/         25\n",
            "                                Website  Feb Count\n",
            "0  https://www.socialmediaexaminer.com/          9\n",
            "1              https://thrivemyway.com/         11\n",
            "2                      https://moz.com/         23\n"
          ]
        }
      ]
    },
    {
      "cell_type": "code",
      "source": [
        "Jan_df.to_csv('Jan_data.csv', index=False, header=True)\n",
        "Feb_df.to_csv('Feb_data.csv', index=False, header=True)"
      ],
      "metadata": {
        "id": "WHuHGrcL2Y8L"
      },
      "execution_count": 31,
      "outputs": []
    }
  ]
}